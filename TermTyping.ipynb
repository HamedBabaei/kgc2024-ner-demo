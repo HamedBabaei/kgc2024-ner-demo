{
 "cells": [
  {
   "cell_type": "markdown",
   "id": "9859d5e2-b2a5-4714-877e-152f1cda5542",
   "metadata": {
    "tags": []
   },
   "source": [
    "### An Application of LLM on Ontology Learning\n",
    "\n",
    "\n",
    "Ontology Learning (OL), which automates the extraction of this structured knowledge from unstructured data, is crucial for building dynamic ontologies foundational to the Semantic Web.\n",
    "\n",
    "<img src=\"images/ol.png\"/>\n",
    "\n",
    "\n",
    "**One of the OL tasks is focused on the `Term Typing` task, which aims to identify the types of terms**\n",
    "\n",
    "**We assume that terms are being extracted from texts and in this demo we aim to find types for terms**"
   ]
  },
  {
   "cell_type": "code",
   "execution_count": 1,
   "id": "4ed0825f-f438-4f26-9320-fac864ee1555",
   "metadata": {},
   "outputs": [],
   "source": [
    "import json\n",
    "import codecs\n",
    "from transformers import AutoModelForCausalLM, AutoTokenizer\n",
    "from tqdm import tqdm\n",
    "from sklearn.metrics import accuracy_score, f1_score"
   ]
  },
  {
   "cell_type": "markdown",
   "id": "8f27208b-5501-40d3-99f1-332c95c7db3e",
   "metadata": {
    "tags": []
   },
   "source": [
    "## Loading Demo Data for Term Typing\n",
    "\n",
    "Let's load the snapshot of NCI ontology dataset curated data from LLMs4OL Challenge @ ISWC 2024 (https://github.com/HamedBabaei/LLMs4OL-Challenge-ISWC2024)"
   ]
  },
  {
   "cell_type": "code",
   "execution_count": 2,
   "id": "fd19f43d-6cf4-44a9-8722-590e1a2b54c4",
   "metadata": {},
   "outputs": [],
   "source": [
    "def load_json(path: str) -> json:\n",
    "    \"\"\"\n",
    "        Loading a json file\n",
    "    :param path: path to the json file\n",
    "    :return: a json dictionary\n",
    "    \"\"\"\n",
    "    with codecs.open(path, \"r\", encoding=\"utf-8\") as json_file:\n",
    "        json_data = json.load(json_file)\n",
    "    return json_data"
   ]
  },
  {
   "cell_type": "code",
   "execution_count": 3,
   "id": "08d1899b-fc42-4ef6-80fd-8bd6327493dd",
   "metadata": {},
   "outputs": [
    {
     "data": {
      "text/plain": [
       "[{'ID': 'C0000869-6', 'term': 'Thorntrees', 'type': ['plant']},\n",
       " {'ID': 'C0034246-807',\n",
       "  'term': 'Tanacetum cinerariifolium Flower',\n",
       "  'type': ['plant']},\n",
       " {'ID': 'C0242767-3091', 'term': 'Caulis', 'type': ['plant']},\n",
       " {'ID': 'C0330382-5170', 'term': 'Sweet William', 'type': ['plant']},\n",
       " {'ID': 'C0034246-807',\n",
       "  'term': 'Tanacetum cinerariifolium Flower',\n",
       "  'type': ['plant']},\n",
       " {'ID': 'C0001577-28',\n",
       "  'term': 'Uterine Adnexitis',\n",
       "  'type': ['disease or syndrome']},\n",
       " {'ID': 'C0002173-46',\n",
       "  'term': 'Alopecia Mucinosis',\n",
       "  'type': ['disease or syndrome']},\n",
       " {'ID': 'C0002992-68',\n",
       "  'term': 'Diffuse Hemangioma',\n",
       "  'type': ['disease or syndrome']},\n",
       " {'ID': 'C0003850-91',\n",
       "  'term': 'Arterial Sclerosis',\n",
       "  'type': ['disease or syndrome']},\n",
       " {'ID': 'C0035920-854',\n",
       "  'term': 'Rubella Infection',\n",
       "  'type': ['disease or syndrome']},\n",
       " {'ID': 'C0001699-31', 'term': 'K. pneumoniae', 'type': ['bacterium']},\n",
       " {'ID': 'C0085494-2237',\n",
       "  'term': 'Presumptive enterococcus',\n",
       "  'type': ['bacterium']},\n",
       " {'ID': 'C0001703-32', 'term': 'Gaffkya Species', 'type': ['bacterium']},\n",
       " {'ID': 'C0004041-93',\n",
       "  'term': 'Sterigmatocystis ochracea',\n",
       "  'type': ['fungus']},\n",
       " {'ID': 'C0319911-5124', 'term': 'Hyalopus Acremonium', 'type': ['fungus']},\n",
       " {'ID': 'C0319919-5125',\n",
       "  'term': 'Sterigmatocystis flavipes',\n",
       "  'type': ['fungus']},\n",
       " {'ID': 'C0005135-118', 'term': 'Bacca', 'type': ['food']},\n",
       " {'ID': 'C0349382-5656', 'term': 'Green Olive', 'type': ['food']},\n",
       " {'ID': 'C0453113-6121', 'term': 'Cruciform Vegetables', 'type': ['food']},\n",
       " {'ID': 'C1517323-19793', 'term': 'Fruit or Vegetable', 'type': ['food']}]"
      ]
     },
     "execution_count": 3,
     "metadata": {},
     "output_type": "execute_result"
    }
   ],
   "source": [
    "demo_data = load_json(path=\"demo-data.json\")\n",
    "\n",
    "demo_data"
   ]
  },
  {
   "cell_type": "markdown",
   "id": "1a69d90c-91fb-4599-b227-831457337945",
   "metadata": {
    "jp-MarkdownHeadingCollapsed": true,
    "tags": []
   },
   "source": [
    "## Building Answer Sets\n",
    "\n",
    "Creating possible answers that LLMs can generate for types."
   ]
  },
  {
   "cell_type": "code",
   "execution_count": 5,
   "id": "0e14db68-b3d0-4151-82b1-7c80efaa0672",
   "metadata": {},
   "outputs": [
    {
     "data": {
      "text/plain": [
       "['fungus', 'food', 'disease or syndrome', 'bacterium', 'plant']"
      ]
     },
     "execution_count": 5,
     "metadata": {},
     "output_type": "execute_result"
    }
   ],
   "source": [
    "term_types = []\n",
    "\n",
    "for sample in demo_data:\n",
    "    term_types.append(sample['type'][0])\n",
    "    \n",
    "term_types = list(set(term_types))\n",
    "\n",
    "term_types"
   ]
  },
  {
   "cell_type": "markdown",
   "id": "6ad4b5ad-1352-434f-b0a3-0d7636960fef",
   "metadata": {},
   "source": [
    "Building answer sets for types. It can be generated manually or using AI (LLMs: GPT-3, GPT-4, ... )"
   ]
  },
  {
   "cell_type": "code",
   "execution_count": 6,
   "id": "c4d12cce-006f-4cc6-a1c8-877550d05b84",
   "metadata": {},
   "outputs": [],
   "source": [
    "answer_set = {\n",
    "    \"plant\": [\"plant\"],\n",
    "    \"bacterium\": [\"bacterium\", \"bacteria\"],\n",
    "    \"fungus\": [\"fungus\", \"fung\"],\n",
    "    \"food\": [\"food\"],\n",
    "    \"disease or syndrome\": [\"disease or syndrome\", \"disease\", \"syndrome\"]\n",
    "}"
   ]
  },
  {
   "cell_type": "markdown",
   "id": "c92da534-5138-4cf8-9197-93159c3a390c",
   "metadata": {
    "jp-MarkdownHeadingCollapsed": true,
    "tags": []
   },
   "source": [
    "## Loading LLM\n",
    "\n",
    "Loading Mistral-7B (https://huggingface.co/mistralai/Mistral-7B-v0.1) model on GPU"
   ]
  },
  {
   "cell_type": "code",
   "execution_count": 7,
   "id": "b8596e6d-8753-4274-9110-acf62a97f0c0",
   "metadata": {},
   "outputs": [
    {
     "data": {
      "application/vnd.jupyter.widget-view+json": {
       "model_id": "929959a9b9fa47739bf9270c3dadc23e",
       "version_major": 2,
       "version_minor": 0
      },
      "text/plain": [
       "Loading checkpoint shards:   0%|          | 0/2 [00:00<?, ?it/s]"
      ]
     },
     "metadata": {},
     "output_type": "display_data"
    }
   ],
   "source": [
    "model_path = \"mistralai/Mistral-7B-v0.1\"\n",
    "device = 'cuda'\n",
    "\n",
    "llm = AutoModelForCausalLM.from_pretrained(model_path, device_map='balanced')\n",
    "\n",
    "tokenizer = AutoTokenizer.from_pretrained(model_path)"
   ]
  },
  {
   "cell_type": "markdown",
   "id": "1d0563d9-756a-426a-97da-6b7ae6482790",
   "metadata": {
    "jp-MarkdownHeadingCollapsed": true,
    "tags": []
   },
   "source": [
    "## 1. Standard Prompting\n",
    "\n",
    "**Standard Prompting** refers to the conventional or widely accepted methods of providing input to an LLM during fine-tuning or inference. This typically involves presenting the model with a prompt or a **starting point,** usually in the form of a text snippet, from which it generates a continuation or response."
   ]
  },
  {
   "cell_type": "markdown",
   "id": "750ecabe-1c8f-4d73-b6aa-c3c4eee51eee",
   "metadata": {},
   "source": [
    "**Prompt Tempate** for `Arterio Sclerosis` term -- the type of this term is `disease or syndrome`"
   ]
  },
  {
   "cell_type": "code",
   "execution_count": 8,
   "id": "fb609ae9-b50d-4890-ba4c-5e6fed70ced5",
   "metadata": {},
   "outputs": [
    {
     "name": "stdout",
     "output_type": "stream",
     "text": [
      "Perform a sentence completion on the following sentence:\n",
      "Sentence: arterial sclerosis in biomedicine is a\n"
     ]
    }
   ],
   "source": [
    "standard_pt = \"\"\"Perform a sentence completion on the following sentence:\n",
    "Sentence: {term} in biomedicine is a\"\"\"\n",
    "\n",
    "# Arterio Sclerosis is a type of vascular disease!\n",
    "\n",
    "sample = standard_pt.replace(\"{term}\", \"Arterial Sclerosis\".lower()) \n",
    "\n",
    "print(sample)"
   ]
  },
  {
   "cell_type": "markdown",
   "id": "e1cba6da-bb10-4a8d-9b98-d46bda2816a4",
   "metadata": {},
   "source": [
    "Prompting LLMs with standard prompt:"
   ]
  },
  {
   "cell_type": "code",
   "execution_count": 9,
   "id": "c8674c3c-de27-4559-8553-de42a5150292",
   "metadata": {},
   "outputs": [
    {
     "name": "stdout",
     "output_type": "stream",
     "text": [
      "Perform a sentence completion on the following sentence:\n",
      "Sentence: arterial sclerosis in biomedicine is a disease of the arteries.\n",
      "\n",
      "1\n"
     ]
    }
   ],
   "source": [
    "inputs = tokenizer(sample, return_tensors=\"pt\").to(device)\n",
    "\n",
    "generated_ids = llm.generate(**inputs, max_new_tokens=10, pad_token_id=tokenizer.eos_token_id)\n",
    "\n",
    "decoded = tokenizer.batch_decode(generated_ids, skip_special_tokens=True)\n",
    "\n",
    "print(decoded[0])"
   ]
  },
  {
   "cell_type": "code",
   "execution_count": 23,
   "id": "8c03ae28-de57-4681-8bc9-fdf8fe300e5d",
   "metadata": {},
   "outputs": [],
   "source": [
    "# Inferencing method that takes prompt template and data and generates types.\n",
    "def inference(prompt_template, data, tokenizer, llm, print_generations=True, max_new_tokens=10):\n",
    "    generated_types = []\n",
    "    for sample in tqdm(data):\n",
    "        # \n",
    "        sample = prompt_template.replace(\"{term}\", sample['term'].lower()) \n",
    "        inputs = tokenizer(sample, return_tensors=\"pt\").to(device)\n",
    "\n",
    "        generated_ids = llm.generate(**inputs, max_new_tokens=max_new_tokens, pad_token_id=tokenizer.eos_token_id) \n",
    "        # num_return_sequences=5\n",
    "\n",
    "        decoded = tokenizer.batch_decode(generated_ids, skip_special_tokens=True)\n",
    "        if print_generations:\n",
    "            print(decoded)\n",
    "        generated_texts = decoded[0].replace(sample, \"\")\n",
    "        generated_types.append(generated_texts)\n",
    "    return generated_types\n",
    "\n",
    "def evaluate_generated_types(generated_types, answer_set):\n",
    "    gen = []\n",
    "    gt = []\n",
    "    for index, generated_text in enumerate(generated_types):\n",
    "        true_answers = answer_set[demo_data[index]['type'][0]]\n",
    "        true_gen = False\n",
    "        for true_answer in true_answers:\n",
    "            if true_answer in generated_text:\n",
    "                true_gen = True\n",
    "                break\n",
    "        if true_gen:\n",
    "            gen.append(demo_data[index]['type'][0])\n",
    "        else:\n",
    "            gen.append(generated_text)\n",
    "        gt.append(demo_data[index]['type'][0])\n",
    "\n",
    "    print(\"Accuracy:\", accuracy_score(gt, gen))\n",
    "    print(\"F1-Score (macro):\", f1_score(gt, gen, average='macro'))"
   ]
  },
  {
   "cell_type": "code",
   "execution_count": 14,
   "id": "185c3555-ced3-49d3-93ea-4a92e8148325",
   "metadata": {},
   "outputs": [
    {
     "name": "stderr",
     "output_type": "stream",
     "text": [
      "  5%|▌         | 1/20 [00:05<01:45,  5.54s/it]"
     ]
    },
    {
     "name": "stdout",
     "output_type": "stream",
     "text": [
      "['Perform a sentence completion on the following sentence:\\nSentence: thorntrees in biomedicine is a ________________.\\n\\n1. new']\n"
     ]
    },
    {
     "name": "stderr",
     "output_type": "stream",
     "text": [
      " 10%|█         | 2/20 [00:10<01:37,  5.40s/it]"
     ]
    },
    {
     "name": "stdout",
     "output_type": "stream",
     "text": [
      "['Perform a sentence completion on the following sentence:\\nSentence: tanacetum cinerariifolium flower in biomedicine is a ______________.\\n\\n1. A.']\n"
     ]
    },
    {
     "name": "stderr",
     "output_type": "stream",
     "text": [
      " 15%|█▌        | 3/20 [00:16<01:31,  5.36s/it]"
     ]
    },
    {
     "name": "stdout",
     "output_type": "stream",
     "text": [
      "['Perform a sentence completion on the following sentence:\\nSentence: caulis in biomedicine is a ______________.\\n\\n1. A.']\n"
     ]
    },
    {
     "name": "stderr",
     "output_type": "stream",
     "text": [
      " 20%|██        | 4/20 [00:21<01:25,  5.36s/it]"
     ]
    },
    {
     "name": "stdout",
     "output_type": "stream",
     "text": [
      "['Perform a sentence completion on the following sentence:\\nSentence: sweet william in biomedicine is a ________.\\n\\n1. A.']\n"
     ]
    },
    {
     "name": "stderr",
     "output_type": "stream",
     "text": [
      " 25%|██▌       | 5/20 [00:26<01:19,  5.29s/it]"
     ]
    },
    {
     "name": "stdout",
     "output_type": "stream",
     "text": [
      "['Perform a sentence completion on the following sentence:\\nSentence: tanacetum cinerariifolium flower in biomedicine is a ______________.\\n\\n1. A.']\n"
     ]
    },
    {
     "name": "stderr",
     "output_type": "stream",
     "text": [
      " 30%|███       | 6/20 [00:32<01:14,  5.36s/it]"
     ]
    },
    {
     "name": "stdout",
     "output_type": "stream",
     "text": [
      "['Perform a sentence completion on the following sentence:\\nSentence: uterine adnexitis in biomedicine is a disease of the female reproductive system.\\n']\n"
     ]
    },
    {
     "name": "stderr",
     "output_type": "stream",
     "text": [
      " 35%|███▌      | 7/20 [00:37<01:08,  5.25s/it]"
     ]
    },
    {
     "name": "stdout",
     "output_type": "stream",
     "text": [
      "['Perform a sentence completion on the following sentence:\\nSentence: alopecia mucinosis in biomedicine is a rare disease that is characterized by the presence of hair']\n"
     ]
    },
    {
     "name": "stderr",
     "output_type": "stream",
     "text": [
      " 40%|████      | 8/20 [00:42<01:03,  5.29s/it]"
     ]
    },
    {
     "name": "stdout",
     "output_type": "stream",
     "text": [
      "['Perform a sentence completion on the following sentence:\\nSentence: diffuse hemangioma in biomedicine is a _______\\n\\n1. benign tum']\n"
     ]
    },
    {
     "name": "stderr",
     "output_type": "stream",
     "text": [
      " 45%|████▌     | 9/20 [00:47<00:57,  5.25s/it]"
     ]
    },
    {
     "name": "stdout",
     "output_type": "stream",
     "text": [
      "['Perform a sentence completion on the following sentence:\\nSentence: arterial sclerosis in biomedicine is a disease of the arteries.\\n\\n1']\n"
     ]
    },
    {
     "name": "stderr",
     "output_type": "stream",
     "text": [
      " 50%|█████     | 10/20 [00:52<00:52,  5.22s/it]"
     ]
    },
    {
     "name": "stdout",
     "output_type": "stream",
     "text": [
      "['Perform a sentence completion on the following sentence:\\nSentence: rubella infection in biomedicine is a disease that is caused by a virus.\\n\\n']\n"
     ]
    },
    {
     "name": "stderr",
     "output_type": "stream",
     "text": [
      " 55%|█████▌    | 11/20 [00:58<00:47,  5.25s/it]"
     ]
    },
    {
     "name": "stdout",
     "output_type": "stream",
     "text": [
      "['Perform a sentence completion on the following sentence:\\nSentence: k. pneumoniae in biomedicine is a gram-negative, rod-shaped, facult']\n"
     ]
    },
    {
     "name": "stderr",
     "output_type": "stream",
     "text": [
      " 60%|██████    | 12/20 [01:03<00:41,  5.17s/it]"
     ]
    },
    {
     "name": "stdout",
     "output_type": "stream",
     "text": [
      "['Perform a sentence completion on the following sentence:\\nSentence: presumptive enterococcus in biomedicine is a ________.\\n\\n1. Gram-']\n"
     ]
    },
    {
     "name": "stderr",
     "output_type": "stream",
     "text": [
      " 65%|██████▌   | 13/20 [01:08<00:36,  5.17s/it]"
     ]
    },
    {
     "name": "stdout",
     "output_type": "stream",
     "text": [
      "['Perform a sentence completion on the following sentence:\\nSentence: gaffkya species in biomedicine is a ______________.\\n\\n1. A.']\n"
     ]
    },
    {
     "name": "stderr",
     "output_type": "stream",
     "text": [
      " 70%|███████   | 14/20 [01:13<00:31,  5.20s/it]"
     ]
    },
    {
     "name": "stdout",
     "output_type": "stream",
     "text": [
      "['Perform a sentence completion on the following sentence:\\nSentence: sterigmatocystis ochracea in biomedicine is a ________________.\\n\\n1. fun']\n"
     ]
    },
    {
     "name": "stderr",
     "output_type": "stream",
     "text": [
      " 75%|███████▌  | 15/20 [01:18<00:25,  5.15s/it]"
     ]
    },
    {
     "name": "stdout",
     "output_type": "stream",
     "text": [
      "['Perform a sentence completion on the following sentence:\\nSentence: hyalopus acremonium in biomedicine is a ______________.\\n\\n1. fung']\n"
     ]
    },
    {
     "name": "stderr",
     "output_type": "stream",
     "text": [
      " 80%|████████  | 16/20 [01:23<00:20,  5.10s/it]"
     ]
    },
    {
     "name": "stdout",
     "output_type": "stream",
     "text": [
      "['Perform a sentence completion on the following sentence:\\nSentence: sterigmatocystis flavipes in biomedicine is a ________________.\\n\\n1. fun']\n"
     ]
    },
    {
     "name": "stderr",
     "output_type": "stream",
     "text": [
      " 85%|████████▌ | 17/20 [01:28<00:15,  5.14s/it]"
     ]
    },
    {
     "name": "stdout",
     "output_type": "stream",
     "text": [
      "['Perform a sentence completion on the following sentence:\\nSentence: bacca in biomedicine is a ______\\n\\n1. a. a']\n"
     ]
    },
    {
     "name": "stderr",
     "output_type": "stream",
     "text": [
      " 90%|█████████ | 18/20 [01:34<00:10,  5.16s/it]"
     ]
    },
    {
     "name": "stdout",
     "output_type": "stream",
     "text": [
      "['Perform a sentence completion on the following sentence:\\nSentence: green olive in biomedicine is a _______________.\\n\\n1. a.']\n"
     ]
    },
    {
     "name": "stderr",
     "output_type": "stream",
     "text": [
      " 95%|█████████▌| 19/20 [01:39<00:05,  5.09s/it]"
     ]
    },
    {
     "name": "stdout",
     "output_type": "stream",
     "text": [
      "['Perform a sentence completion on the following sentence:\\nSentence: cruciform vegetables in biomedicine is a new and promising field of research.\\n\\n1']\n"
     ]
    },
    {
     "name": "stderr",
     "output_type": "stream",
     "text": [
      "100%|██████████| 20/20 [01:43<00:00,  5.20s/it]"
     ]
    },
    {
     "name": "stdout",
     "output_type": "stream",
     "text": [
      "['Perform a sentence completion on the following sentence:\\nSentence: fruit or vegetable in biomedicine is a plant or plant part that is used for its taste']\n"
     ]
    },
    {
     "name": "stderr",
     "output_type": "stream",
     "text": [
      "\n"
     ]
    }
   ],
   "source": [
    "standard_pt = \"\"\"Perform a sentence completion on the following sentence:\n",
    "Sentence: {term} in biomedicine is a\"\"\"\n",
    "\n",
    "standard_pt_inference = inference(prompt_template=standard_pt, tokenizer=tokenizer, llm=llm, answer_set=answer_set)"
   ]
  },
  {
   "cell_type": "code",
   "execution_count": 15,
   "id": "0e9c596c-5972-4eac-9971-287ef9d321d0",
   "metadata": {},
   "outputs": [
    {
     "data": {
      "text/plain": [
       "[' ________________.\\n\\n1. new',\n",
       " ' ______________.\\n\\n1. A.',\n",
       " ' ______________.\\n\\n1. A.',\n",
       " ' ________.\\n\\n1. A.',\n",
       " ' ______________.\\n\\n1. A.',\n",
       " ' disease of the female reproductive system.\\n',\n",
       " ' rare disease that is characterized by the presence of hair',\n",
       " ' _______\\n\\n1. benign tum',\n",
       " ' disease of the arteries.\\n\\n1',\n",
       " ' disease that is caused by a virus.\\n\\n',\n",
       " ' gram-negative, rod-shaped, facult',\n",
       " ' ________.\\n\\n1. Gram-',\n",
       " ' ______________.\\n\\n1. A.',\n",
       " ' ________________.\\n\\n1. fun',\n",
       " ' ______________.\\n\\n1. fung',\n",
       " ' ________________.\\n\\n1. fun',\n",
       " ' ______\\n\\n1. a. a',\n",
       " ' _______________.\\n\\n1. a.',\n",
       " ' new and promising field of research.\\n\\n1',\n",
       " ' plant or plant part that is used for its taste']"
      ]
     },
     "execution_count": 15,
     "metadata": {},
     "output_type": "execute_result"
    }
   ],
   "source": [
    "standard_pt_inference"
   ]
  },
  {
   "cell_type": "code",
   "execution_count": 16,
   "id": "ba209a6f-bc36-4f7f-8857-d8c4eb064eea",
   "metadata": {},
   "outputs": [
    {
     "name": "stdout",
     "output_type": "stream",
     "text": [
      "Accuracy: 0.25\n",
      "F1-Score (macro): 0.08680555555555555\n"
     ]
    }
   ],
   "source": [
    "evaluate_generated_types(generated_types=standard_pt_inference, answer_set=answer_set)"
   ]
  },
  {
   "cell_type": "markdown",
   "id": "2a1fe376-87e8-4d2c-94d6-1b7b20f02e43",
   "metadata": {
    "tags": []
   },
   "source": [
    "## 2. Different Prompt\n",
    "\n",
    "Adding instruction about what is the task: `Given a term in biomedicine domain identify the term type.`\n"
   ]
  },
  {
   "cell_type": "code",
   "execution_count": 28,
   "id": "f577348f-6ded-4fb1-a51a-e929fe5c7891",
   "metadata": {},
   "outputs": [
    {
     "name": "stderr",
     "output_type": "stream",
     "text": [
      "  5%|▌         | 1/20 [00:05<01:36,  5.07s/it]"
     ]
    },
    {
     "name": "stdout",
     "output_type": "stream",
     "text": [
      "['Given a term in biomedicine domain identify the term type.\\n### Term: thorntrees\\n### Type: 1\\n### Definition:\\n\\n### Synony']\n"
     ]
    },
    {
     "name": "stderr",
     "output_type": "stream",
     "text": [
      " 10%|█         | 2/20 [00:10<01:31,  5.09s/it]"
     ]
    },
    {
     "name": "stdout",
     "output_type": "stream",
     "text": [
      "['Given a term in biomedicine domain identify the term type.\\n### Term: tanacetum cinerariifolium flower\\n### Type: 1\\n\\n### Term: tanacetum']\n"
     ]
    },
    {
     "name": "stderr",
     "output_type": "stream",
     "text": [
      " 15%|█▌        | 3/20 [00:15<01:26,  5.07s/it]"
     ]
    },
    {
     "name": "stdout",
     "output_type": "stream",
     "text": [
      "['Given a term in biomedicine domain identify the term type.\\n### Term: caulis\\n### Type: 1\\n### Definition:\\n\\nThe stem of']\n"
     ]
    },
    {
     "name": "stderr",
     "output_type": "stream",
     "text": [
      " 20%|██        | 4/20 [00:20<01:20,  5.02s/it]"
     ]
    },
    {
     "name": "stdout",
     "output_type": "stream",
     "text": [
      "['Given a term in biomedicine domain identify the term type.\\n### Term: sweet william\\n### Type: 1\\n### Definition:\\n\\nA plant,']\n"
     ]
    },
    {
     "name": "stderr",
     "output_type": "stream",
     "text": [
      " 25%|██▌       | 5/20 [00:25<01:14,  5.00s/it]"
     ]
    },
    {
     "name": "stdout",
     "output_type": "stream",
     "text": [
      "['Given a term in biomedicine domain identify the term type.\\n### Term: tanacetum cinerariifolium flower\\n### Type: 1\\n\\n### Term: tanacetum']\n"
     ]
    },
    {
     "name": "stderr",
     "output_type": "stream",
     "text": [
      " 30%|███       | 6/20 [00:30<01:09,  4.97s/it]"
     ]
    },
    {
     "name": "stdout",
     "output_type": "stream",
     "text": [
      "['Given a term in biomedicine domain identify the term type.\\n### Term: uterine adnexitis\\n### Type: 1\\n\\nGiven a term in biomed']\n"
     ]
    },
    {
     "name": "stderr",
     "output_type": "stream",
     "text": [
      " 35%|███▌      | 7/20 [00:34<01:04,  4.96s/it]"
     ]
    },
    {
     "name": "stdout",
     "output_type": "stream",
     "text": [
      "['Given a term in biomedicine domain identify the term type.\\n### Term: alopecia mucinosis\\n### Type: 1\\n\\nGiven a term in biomed']\n"
     ]
    },
    {
     "name": "stderr",
     "output_type": "stream",
     "text": [
      " 40%|████      | 8/20 [00:40<00:59,  4.99s/it]"
     ]
    },
    {
     "name": "stdout",
     "output_type": "stream",
     "text": [
      "['Given a term in biomedicine domain identify the term type.\\n### Term: diffuse hemangioma\\n### Type: 1\\n\\nGiven a term in biomed']\n"
     ]
    },
    {
     "name": "stderr",
     "output_type": "stream",
     "text": [
      " 45%|████▌     | 9/20 [00:45<00:55,  5.00s/it]"
     ]
    },
    {
     "name": "stdout",
     "output_type": "stream",
     "text": [
      "['Given a term in biomedicine domain identify the term type.\\n### Term: arterial sclerosis\\n### Type: 1\\n\\nGiven a term in biomed']\n"
     ]
    },
    {
     "name": "stderr",
     "output_type": "stream",
     "text": [
      " 50%|█████     | 10/20 [00:50<00:50,  5.03s/it]"
     ]
    },
    {
     "name": "stdout",
     "output_type": "stream",
     "text": [
      "['Given a term in biomedicine domain identify the term type.\\n### Term: rubella infection\\n### Type: 1\\n\\nGiven a term in biomed']\n"
     ]
    },
    {
     "name": "stderr",
     "output_type": "stream",
     "text": [
      " 55%|█████▌    | 11/20 [00:55<00:45,  5.03s/it]"
     ]
    },
    {
     "name": "stdout",
     "output_type": "stream",
     "text": [
      "['Given a term in biomedicine domain identify the term type.\\n### Term: k. pneumoniae\\n### Type: 1\\n\\nGiven a term in biomed']\n"
     ]
    },
    {
     "name": "stderr",
     "output_type": "stream",
     "text": [
      " 60%|██████    | 12/20 [01:00<00:40,  5.04s/it]"
     ]
    },
    {
     "name": "stdout",
     "output_type": "stream",
     "text": [
      "['Given a term in biomedicine domain identify the term type.\\n### Term: presumptive enterococcus\\n### Type: 1\\n\\nGiven a term in biomed']\n"
     ]
    },
    {
     "name": "stderr",
     "output_type": "stream",
     "text": [
      " 65%|██████▌   | 13/20 [01:05<00:35,  5.01s/it]"
     ]
    },
    {
     "name": "stdout",
     "output_type": "stream",
     "text": [
      "['Given a term in biomedicine domain identify the term type.\\n### Term: gaffkya species\\n### Type: 1\\n### Type: 2\\n### Type']\n"
     ]
    },
    {
     "name": "stderr",
     "output_type": "stream",
     "text": [
      " 70%|███████   | 14/20 [01:10<00:29,  4.99s/it]"
     ]
    },
    {
     "name": "stdout",
     "output_type": "stream",
     "text": [
      "['Given a term in biomedicine domain identify the term type.\\n### Term: sterigmatocystis ochracea\\n### Type: 1\\n\\n### Term: sterigmatoc']\n"
     ]
    },
    {
     "name": "stderr",
     "output_type": "stream",
     "text": [
      " 75%|███████▌  | 15/20 [01:15<00:24,  4.97s/it]"
     ]
    },
    {
     "name": "stdout",
     "output_type": "stream",
     "text": [
      "['Given a term in biomedicine domain identify the term type.\\n### Term: hyalopus acremonium\\n### Type: 1\\n\\nGiven a term in biomed']\n"
     ]
    },
    {
     "name": "stderr",
     "output_type": "stream",
     "text": [
      " 80%|████████  | 16/20 [01:19<00:19,  4.96s/it]"
     ]
    },
    {
     "name": "stdout",
     "output_type": "stream",
     "text": [
      "['Given a term in biomedicine domain identify the term type.\\n### Term: sterigmatocystis flavipes\\n### Type: 1\\n\\n### Term: sterigmatoc']\n"
     ]
    },
    {
     "name": "stderr",
     "output_type": "stream",
     "text": [
      " 85%|████████▌ | 17/20 [01:24<00:14,  4.94s/it]"
     ]
    },
    {
     "name": "stdout",
     "output_type": "stream",
     "text": [
      "['Given a term in biomedicine domain identify the term type.\\n### Term: bacca\\n### Type: 1\\n### Definition:\\n\\nA fruit that']\n"
     ]
    },
    {
     "name": "stderr",
     "output_type": "stream",
     "text": [
      " 90%|█████████ | 18/20 [01:29<00:09,  4.96s/it]"
     ]
    },
    {
     "name": "stdout",
     "output_type": "stream",
     "text": [
      "['Given a term in biomedicine domain identify the term type.\\n### Term: green olive\\n### Type: 1\\n### Definition:\\n\\n### Term:']\n"
     ]
    },
    {
     "name": "stderr",
     "output_type": "stream",
     "text": [
      " 95%|█████████▌| 19/20 [01:34<00:04,  4.98s/it]"
     ]
    },
    {
     "name": "stdout",
     "output_type": "stream",
     "text": [
      "['Given a term in biomedicine domain identify the term type.\\n### Term: cruciform vegetables\\n### Type: 1\\n### Type: 2\\n### Type']\n"
     ]
    },
    {
     "name": "stderr",
     "output_type": "stream",
     "text": [
      "100%|██████████| 20/20 [01:39<00:00,  5.00s/it]"
     ]
    },
    {
     "name": "stdout",
     "output_type": "stream",
     "text": [
      "['Given a term in biomedicine domain identify the term type.\\n### Term: fruit or vegetable\\n### Type: 1\\n### Term: fruit or vegetable\\n']\n"
     ]
    },
    {
     "name": "stderr",
     "output_type": "stream",
     "text": [
      "\n"
     ]
    }
   ],
   "source": [
    "standard_pt2 = \"\"\"Given a term in biomedicine domain identify the term type.\n",
    "### Term: {term}\n",
    "### Type: \"\"\"\n",
    "\n",
    "standard_pt2_inference = inference(prompt_template=standard_pt2, tokenizer=tokenizer, llm=llm, data=demo_data)"
   ]
  },
  {
   "cell_type": "code",
   "execution_count": 31,
   "id": "e79f0fb3-083d-4cb3-93a0-7eae8305e15f",
   "metadata": {},
   "outputs": [
    {
     "data": {
      "text/plain": [
       "['1\\n### Definition:\\n\\n### Synony',\n",
       " '1\\n\\n### Term: tanacetum',\n",
       " '1\\n### Definition:\\n\\nThe stem of',\n",
       " '1\\n### Definition:\\n\\nA plant,',\n",
       " '1\\n\\n### Term: tanacetum',\n",
       " '1\\n\\nGiven a term in biomed',\n",
       " '1\\n\\nGiven a term in biomed',\n",
       " '1\\n\\nGiven a term in biomed',\n",
       " '1\\n\\nGiven a term in biomed',\n",
       " '1\\n\\nGiven a term in biomed',\n",
       " '1\\n\\nGiven a term in biomed',\n",
       " '1\\n\\nGiven a term in biomed',\n",
       " '1\\n### Type: 2\\n### Type',\n",
       " '1\\n\\n### Term: sterigmatoc',\n",
       " '1\\n\\nGiven a term in biomed',\n",
       " '1\\n\\n### Term: sterigmatoc',\n",
       " '1\\n### Definition:\\n\\nA fruit that',\n",
       " '1\\n### Definition:\\n\\n### Term:',\n",
       " '1\\n### Type: 2\\n### Type',\n",
       " '1\\n### Term: fruit or vegetable\\n']"
      ]
     },
     "execution_count": 31,
     "metadata": {},
     "output_type": "execute_result"
    }
   ],
   "source": [
    "standard_pt2_inference"
   ]
  },
  {
   "cell_type": "code",
   "execution_count": 32,
   "id": "740511aa-10da-4edc-8919-d93ec618b8c0",
   "metadata": {},
   "outputs": [
    {
     "name": "stdout",
     "output_type": "stream",
     "text": [
      "Accuracy: 0.05\n",
      "F1-Score (macro): 0.02380952380952381\n"
     ]
    }
   ],
   "source": [
    "evaluate_generated_types(generated_types=standard_pt2_inference, answer_set=answer_set)"
   ]
  },
  {
   "cell_type": "markdown",
   "id": "27160ab6-b91b-417c-9a97-8a0ee6bd1e96",
   "metadata": {
    "tags": []
   },
   "source": [
    "## 3. Providing types within the prompt\n",
    "\n",
    "Now let's add possible types beside instruction by adding: `List of possible types for term: 'food', 'bacterium', 'disease or syndrome', 'fungus', 'plant'\n",
    "`"
   ]
  },
  {
   "cell_type": "code",
   "execution_count": 33,
   "id": "fe1d5ab4-7750-4baf-8fe2-36a4c425003f",
   "metadata": {},
   "outputs": [
    {
     "name": "stderr",
     "output_type": "stream",
     "text": [
      "  5%|▌         | 1/20 [00:05<01:36,  5.08s/it]"
     ]
    },
    {
     "name": "stdout",
     "output_type": "stream",
     "text": [
      "[\"Given a term in biomedicine domain identify the term type.\\nList of possible types for term: 'food', 'bacterium', 'disease or syndrome', 'fungus', 'plant'\\n\\n### Term: thorntrees\\n### Type:  plant\\n\\n\\n\\n\\n\\n\\n\\n\\n\"]\n"
     ]
    },
    {
     "name": "stderr",
     "output_type": "stream",
     "text": [
      " 10%|█         | 2/20 [00:10<01:31,  5.10s/it]"
     ]
    },
    {
     "name": "stdout",
     "output_type": "stream",
     "text": [
      "[\"Given a term in biomedicine domain identify the term type.\\nList of possible types for term: 'food', 'bacterium', 'disease or syndrome', 'fungus', 'plant'\\n\\n### Term: tanacetum cinerariifolium flower\\n### Type: 1\\n\\n### Term: tanacetum\"]\n"
     ]
    },
    {
     "name": "stderr",
     "output_type": "stream",
     "text": [
      " 15%|█▌        | 3/20 [00:15<01:26,  5.08s/it]"
     ]
    },
    {
     "name": "stdout",
     "output_type": "stream",
     "text": [
      "[\"Given a term in biomedicine domain identify the term type.\\nList of possible types for term: 'food', 'bacterium', 'disease or syndrome', 'fungus', 'plant'\\n\\n### Term: caulis\\n### Type:  food\\n\\n\\n### Term: caulif\"]\n"
     ]
    },
    {
     "name": "stderr",
     "output_type": "stream",
     "text": [
      " 20%|██        | 4/20 [00:20<01:20,  5.05s/it]"
     ]
    },
    {
     "name": "stdout",
     "output_type": "stream",
     "text": [
      "[\"Given a term in biomedicine domain identify the term type.\\nList of possible types for term: 'food', 'bacterium', 'disease or syndrome', 'fungus', 'plant'\\n\\n### Term: sweet william\\n### Type:  plant\\n\\n\\n\\n\\n\\n\\n\\n\\n\"]\n"
     ]
    },
    {
     "name": "stderr",
     "output_type": "stream",
     "text": [
      " 25%|██▌       | 5/20 [00:25<01:15,  5.04s/it]"
     ]
    },
    {
     "name": "stdout",
     "output_type": "stream",
     "text": [
      "[\"Given a term in biomedicine domain identify the term type.\\nList of possible types for term: 'food', 'bacterium', 'disease or syndrome', 'fungus', 'plant'\\n\\n### Term: tanacetum cinerariifolium flower\\n### Type: 1\\n\\n### Term: tanacetum\"]\n"
     ]
    },
    {
     "name": "stderr",
     "output_type": "stream",
     "text": [
      " 30%|███       | 6/20 [00:30<01:10,  5.01s/it]"
     ]
    },
    {
     "name": "stdout",
     "output_type": "stream",
     "text": [
      "[\"Given a term in biomedicine domain identify the term type.\\nList of possible types for term: 'food', 'bacterium', 'disease or syndrome', 'fungus', 'plant'\\n\\n### Term: uterine adnexitis\\n### Type:  disease or syndrome\\n\\n\\n\\n\\n\\n\\n\"]\n"
     ]
    },
    {
     "name": "stderr",
     "output_type": "stream",
     "text": [
      " 35%|███▌      | 7/20 [00:35<01:04,  4.98s/it]"
     ]
    },
    {
     "name": "stdout",
     "output_type": "stream",
     "text": [
      "[\"Given a term in biomedicine domain identify the term type.\\nList of possible types for term: 'food', 'bacterium', 'disease or syndrome', 'fungus', 'plant'\\n\\n### Term: alopecia mucinosis\\n### Type:  disease or syndrome\\n\\n\\n\\n\\n\\n\\n\"]\n"
     ]
    },
    {
     "name": "stderr",
     "output_type": "stream",
     "text": [
      " 40%|████      | 8/20 [00:40<00:59,  4.97s/it]"
     ]
    },
    {
     "name": "stdout",
     "output_type": "stream",
     "text": [
      "[\"Given a term in biomedicine domain identify the term type.\\nList of possible types for term: 'food', 'bacterium', 'disease or syndrome', 'fungus', 'plant'\\n\\n### Term: diffuse hemangioma\\n### Type:  disease or syndrome\\n\\n\\n\\n\\n\\n\\n\"]\n"
     ]
    },
    {
     "name": "stderr",
     "output_type": "stream",
     "text": [
      " 45%|████▌     | 9/20 [00:45<00:54,  4.97s/it]"
     ]
    },
    {
     "name": "stdout",
     "output_type": "stream",
     "text": [
      "[\"Given a term in biomedicine domain identify the term type.\\nList of possible types for term: 'food', 'bacterium', 'disease or syndrome', 'fungus', 'plant'\\n\\n### Term: arterial sclerosis\\n### Type:  disease or syndrome\\n\\n\\n\\n\\n\\n\\n\"]\n"
     ]
    },
    {
     "name": "stderr",
     "output_type": "stream",
     "text": [
      " 50%|█████     | 10/20 [00:50<00:49,  4.99s/it]"
     ]
    },
    {
     "name": "stdout",
     "output_type": "stream",
     "text": [
      "[\"Given a term in biomedicine domain identify the term type.\\nList of possible types for term: 'food', 'bacterium', 'disease or syndrome', 'fungus', 'plant'\\n\\n### Term: rubella infection\\n### Type:  disease or syndrome\\n\\n\\n\\n\\n\\n\\n\"]\n"
     ]
    },
    {
     "name": "stderr",
     "output_type": "stream",
     "text": [
      " 55%|█████▌    | 11/20 [00:55<00:45,  5.01s/it]"
     ]
    },
    {
     "name": "stdout",
     "output_type": "stream",
     "text": [
      "[\"Given a term in biomedicine domain identify the term type.\\nList of possible types for term: 'food', 'bacterium', 'disease or syndrome', 'fungus', 'plant'\\n\\n### Term: k. pneumoniae\\n### Type: 1\\n\\n\\n\\n\\n\\n\\n\\n\\n\"]\n"
     ]
    },
    {
     "name": "stderr",
     "output_type": "stream",
     "text": [
      " 60%|██████    | 12/20 [01:00<00:40,  5.02s/it]"
     ]
    },
    {
     "name": "stdout",
     "output_type": "stream",
     "text": [
      "[\"Given a term in biomedicine domain identify the term type.\\nList of possible types for term: 'food', 'bacterium', 'disease or syndrome', 'fungus', 'plant'\\n\\n### Term: presumptive enterococcus\\n### Type:  bacterium\\n\\n\\n\\n\\n\\n\\n\\n\"]\n"
     ]
    },
    {
     "name": "stderr",
     "output_type": "stream",
     "text": [
      " 65%|██████▌   | 13/20 [01:05<00:35,  5.01s/it]"
     ]
    },
    {
     "name": "stdout",
     "output_type": "stream",
     "text": [
      "[\"Given a term in biomedicine domain identify the term type.\\nList of possible types for term: 'food', 'bacterium', 'disease or syndrome', 'fungus', 'plant'\\n\\n### Term: gaffkya species\\n### Type: 1\\n\\n\\n\\n\\n\\n\\n\\n\\n\"]\n"
     ]
    },
    {
     "name": "stderr",
     "output_type": "stream",
     "text": [
      " 70%|███████   | 14/20 [01:10<00:30,  5.04s/it]"
     ]
    },
    {
     "name": "stdout",
     "output_type": "stream",
     "text": [
      "[\"Given a term in biomedicine domain identify the term type.\\nList of possible types for term: 'food', 'bacterium', 'disease or syndrome', 'fungus', 'plant'\\n\\n### Term: sterigmatocystis ochracea\\n### Type:  fungus\\n\\n\\n\\n\\n\\n\\n\"]\n"
     ]
    },
    {
     "name": "stderr",
     "output_type": "stream",
     "text": [
      " 75%|███████▌  | 15/20 [01:15<00:25,  5.04s/it]"
     ]
    },
    {
     "name": "stdout",
     "output_type": "stream",
     "text": [
      "[\"Given a term in biomedicine domain identify the term type.\\nList of possible types for term: 'food', 'bacterium', 'disease or syndrome', 'fungus', 'plant'\\n\\n### Term: hyalopus acremonium\\n### Type:  fungus\\n\\n\\n\\n\\n\\n\\n\"]\n"
     ]
    },
    {
     "name": "stderr",
     "output_type": "stream",
     "text": [
      " 80%|████████  | 16/20 [01:20<00:20,  5.02s/it]"
     ]
    },
    {
     "name": "stdout",
     "output_type": "stream",
     "text": [
      "[\"Given a term in biomedicine domain identify the term type.\\nList of possible types for term: 'food', 'bacterium', 'disease or syndrome', 'fungus', 'plant'\\n\\n### Term: sterigmatocystis flavipes\\n### Type:  fungus\\n\\n\\n\\n\\n\\n\\n\"]\n"
     ]
    },
    {
     "name": "stderr",
     "output_type": "stream",
     "text": [
      " 85%|████████▌ | 17/20 [01:25<00:15,  5.00s/it]"
     ]
    },
    {
     "name": "stdout",
     "output_type": "stream",
     "text": [
      "[\"Given a term in biomedicine domain identify the term type.\\nList of possible types for term: 'food', 'bacterium', 'disease or syndrome', 'fungus', 'plant'\\n\\n### Term: bacca\\n### Type:  food\\n\\n\\n\\n\\n\\n\\n\\n\\n\"]\n"
     ]
    },
    {
     "name": "stderr",
     "output_type": "stream",
     "text": [
      " 90%|█████████ | 18/20 [01:30<00:09,  4.99s/it]"
     ]
    },
    {
     "name": "stdout",
     "output_type": "stream",
     "text": [
      "[\"Given a term in biomedicine domain identify the term type.\\nList of possible types for term: 'food', 'bacterium', 'disease or syndrome', 'fungus', 'plant'\\n\\n### Term: green olive\\n### Type:  food\\n\\n\\n\\n\\n\\n\\n\\n\\n\"]\n"
     ]
    },
    {
     "name": "stderr",
     "output_type": "stream",
     "text": [
      " 95%|█████████▌| 19/20 [01:35<00:04,  4.98s/it]"
     ]
    },
    {
     "name": "stdout",
     "output_type": "stream",
     "text": [
      "[\"Given a term in biomedicine domain identify the term type.\\nList of possible types for term: 'food', 'bacterium', 'disease or syndrome', 'fungus', 'plant'\\n\\n### Term: cruciform vegetables\\n### Type:  food\\n\\n\\n### Term: eryth\"]\n"
     ]
    },
    {
     "name": "stderr",
     "output_type": "stream",
     "text": [
      "100%|██████████| 20/20 [01:40<00:00,  5.01s/it]"
     ]
    },
    {
     "name": "stdout",
     "output_type": "stream",
     "text": [
      "[\"Given a term in biomedicine domain identify the term type.\\nList of possible types for term: 'food', 'bacterium', 'disease or syndrome', 'fungus', 'plant'\\n\\n### Term: fruit or vegetable\\n### Type:  food\\n\\n### Term: Escherich\"]\n"
     ]
    },
    {
     "name": "stderr",
     "output_type": "stream",
     "text": [
      "\n"
     ]
    }
   ],
   "source": [
    "standard_pt3 = \"\"\"Given a term in biomedicine domain identify the term type.\n",
    "List of possible types for term: 'food', 'bacterium', 'disease or syndrome', 'fungus', 'plant'\n",
    "\n",
    "### Term: {term}\n",
    "### Type: \"\"\"\n",
    "\n",
    "standard_pt3_inference = inference(prompt_template=standard_pt3, tokenizer=tokenizer, llm=llm, data=demo_data)"
   ]
  },
  {
   "cell_type": "code",
   "execution_count": 37,
   "id": "88664ef6-adc0-48cb-aaf2-282495d8b4b2",
   "metadata": {},
   "outputs": [
    {
     "data": {
      "text/plain": [
       "[' plant\\n\\n\\n\\n\\n\\n\\n\\n\\n',\n",
       " '1\\n\\n### Term: tanacetum',\n",
       " ' food\\n\\n\\n### Term: caulif',\n",
       " ' plant\\n\\n\\n\\n\\n\\n\\n\\n\\n',\n",
       " '1\\n\\n### Term: tanacetum',\n",
       " ' disease or syndrome\\n\\n\\n\\n\\n\\n\\n',\n",
       " ' disease or syndrome\\n\\n\\n\\n\\n\\n\\n',\n",
       " ' disease or syndrome\\n\\n\\n\\n\\n\\n\\n',\n",
       " ' disease or syndrome\\n\\n\\n\\n\\n\\n\\n',\n",
       " ' disease or syndrome\\n\\n\\n\\n\\n\\n\\n',\n",
       " '1\\n\\n\\n\\n\\n\\n\\n\\n\\n',\n",
       " ' bacterium\\n\\n\\n\\n\\n\\n\\n\\n',\n",
       " '1\\n\\n\\n\\n\\n\\n\\n\\n\\n',\n",
       " ' fungus\\n\\n\\n\\n\\n\\n\\n',\n",
       " ' fungus\\n\\n\\n\\n\\n\\n\\n',\n",
       " ' fungus\\n\\n\\n\\n\\n\\n\\n',\n",
       " ' food\\n\\n\\n\\n\\n\\n\\n\\n\\n',\n",
       " ' food\\n\\n\\n\\n\\n\\n\\n\\n\\n',\n",
       " ' food\\n\\n\\n### Term: eryth',\n",
       " ' food\\n\\n### Term: Escherich']"
      ]
     },
     "execution_count": 37,
     "metadata": {},
     "output_type": "execute_result"
    }
   ],
   "source": [
    "standard_pt3_inference"
   ]
  },
  {
   "cell_type": "code",
   "execution_count": 38,
   "id": "af8a62a7-5c8f-4e4a-8955-902323718f12",
   "metadata": {},
   "outputs": [
    {
     "name": "stdout",
     "output_type": "stream",
     "text": [
      "Accuracy: 0.75\n",
      "F1-Score (macro): 0.5089285714285714\n"
     ]
    }
   ],
   "source": [
    "evaluate_generated_types(generated_types=standard_pt3_inference, answer_set=answer_set)"
   ]
  },
  {
   "cell_type": "markdown",
   "id": "8d0140d5-f8a8-49b5-8353-a5a397aafebf",
   "metadata": {
    "tags": []
   },
   "source": [
    "## 4. Few-Shot Prompting"
   ]
  },
  {
   "cell_type": "code",
   "execution_count": 36,
   "id": "bda41385-dbd8-4ed6-a8df-6a708f26680c",
   "metadata": {},
   "outputs": [
    {
     "name": "stderr",
     "output_type": "stream",
     "text": [
      "  5%|▌         | 1/20 [00:05<01:36,  5.09s/it]"
     ]
    },
    {
     "name": "stdout",
     "output_type": "stream",
     "text": [
      "[\"Given a term in biomedicine domain identify the term type.\\nList of possible types for term: 'food', 'bacterium', 'disease or syndrome', 'fungus', 'plant'\\n\\n### Term: life-mel\\n### Type: food\\n\\n### Term: golden bifido\\n### Type: bacterium\\n\\n### Term: uterine adenomyosis\\n### Type: disease or syndrome\\n\\n### Term: mycobiome profile\\n### Type: fungus\\n\\n### Term: asana leaf\\n### Type: plant\\n\\n### Term: thorntrees\\n### Type:  plant\\n\\n### Term: 100\"]\n"
     ]
    },
    {
     "name": "stderr",
     "output_type": "stream",
     "text": [
      " 10%|█         | 2/20 [00:10<01:32,  5.14s/it]"
     ]
    },
    {
     "name": "stdout",
     "output_type": "stream",
     "text": [
      "[\"Given a term in biomedicine domain identify the term type.\\nList of possible types for term: 'food', 'bacterium', 'disease or syndrome', 'fungus', 'plant'\\n\\n### Term: life-mel\\n### Type: food\\n\\n### Term: golden bifido\\n### Type: bacterium\\n\\n### Term: uterine adenomyosis\\n### Type: disease or syndrome\\n\\n### Term: mycobiome profile\\n### Type: fungus\\n\\n### Term: asana leaf\\n### Type: plant\\n\\n### Term: tanacetum cinerariifolium flower\\n### Type:  plant\\n\\n### Term: erythro\"]\n"
     ]
    },
    {
     "name": "stderr",
     "output_type": "stream",
     "text": [
      " 15%|█▌        | 3/20 [00:15<01:27,  5.16s/it]"
     ]
    },
    {
     "name": "stdout",
     "output_type": "stream",
     "text": [
      "[\"Given a term in biomedicine domain identify the term type.\\nList of possible types for term: 'food', 'bacterium', 'disease or syndrome', 'fungus', 'plant'\\n\\n### Term: life-mel\\n### Type: food\\n\\n### Term: golden bifido\\n### Type: bacterium\\n\\n### Term: uterine adenomyosis\\n### Type: disease or syndrome\\n\\n### Term: mycobiome profile\\n### Type: fungus\\n\\n### Term: asana leaf\\n### Type: plant\\n\\n### Term: caulis\\n### Type:  plant\\n\\n### Term: caulis\\n\"]\n"
     ]
    },
    {
     "name": "stderr",
     "output_type": "stream",
     "text": [
      " 20%|██        | 4/20 [00:20<01:22,  5.16s/it]"
     ]
    },
    {
     "name": "stdout",
     "output_type": "stream",
     "text": [
      "[\"Given a term in biomedicine domain identify the term type.\\nList of possible types for term: 'food', 'bacterium', 'disease or syndrome', 'fungus', 'plant'\\n\\n### Term: life-mel\\n### Type: food\\n\\n### Term: golden bifido\\n### Type: bacterium\\n\\n### Term: uterine adenomyosis\\n### Type: disease or syndrome\\n\\n### Term: mycobiome profile\\n### Type: fungus\\n\\n### Term: asana leaf\\n### Type: plant\\n\\n### Term: sweet william\\n### Type:  plant\\n\\n### Term: erythro\"]\n"
     ]
    },
    {
     "name": "stderr",
     "output_type": "stream",
     "text": [
      " 25%|██▌       | 5/20 [00:25<01:17,  5.15s/it]"
     ]
    },
    {
     "name": "stdout",
     "output_type": "stream",
     "text": [
      "[\"Given a term in biomedicine domain identify the term type.\\nList of possible types for term: 'food', 'bacterium', 'disease or syndrome', 'fungus', 'plant'\\n\\n### Term: life-mel\\n### Type: food\\n\\n### Term: golden bifido\\n### Type: bacterium\\n\\n### Term: uterine adenomyosis\\n### Type: disease or syndrome\\n\\n### Term: mycobiome profile\\n### Type: fungus\\n\\n### Term: asana leaf\\n### Type: plant\\n\\n### Term: tanacetum cinerariifolium flower\\n### Type:  plant\\n\\n### Term: erythro\"]\n"
     ]
    },
    {
     "name": "stderr",
     "output_type": "stream",
     "text": [
      " 30%|███       | 6/20 [00:30<01:12,  5.15s/it]"
     ]
    },
    {
     "name": "stdout",
     "output_type": "stream",
     "text": [
      "[\"Given a term in biomedicine domain identify the term type.\\nList of possible types for term: 'food', 'bacterium', 'disease or syndrome', 'fungus', 'plant'\\n\\n### Term: life-mel\\n### Type: food\\n\\n### Term: golden bifido\\n### Type: bacterium\\n\\n### Term: uterine adenomyosis\\n### Type: disease or syndrome\\n\\n### Term: mycobiome profile\\n### Type: fungus\\n\\n### Term: asana leaf\\n### Type: plant\\n\\n### Term: uterine adnexitis\\n### Type:  disease or syndrome\\n\\n### Term: ery\"]\n"
     ]
    },
    {
     "name": "stderr",
     "output_type": "stream",
     "text": [
      " 35%|███▌      | 7/20 [00:36<01:07,  5.16s/it]"
     ]
    },
    {
     "name": "stdout",
     "output_type": "stream",
     "text": [
      "[\"Given a term in biomedicine domain identify the term type.\\nList of possible types for term: 'food', 'bacterium', 'disease or syndrome', 'fungus', 'plant'\\n\\n### Term: life-mel\\n### Type: food\\n\\n### Term: golden bifido\\n### Type: bacterium\\n\\n### Term: uterine adenomyosis\\n### Type: disease or syndrome\\n\\n### Term: mycobiome profile\\n### Type: fungus\\n\\n### Term: asana leaf\\n### Type: plant\\n\\n### Term: alopecia mucinosis\\n### Type:  disease or syndrome\\n\\n### Term: ery\"]\n"
     ]
    },
    {
     "name": "stderr",
     "output_type": "stream",
     "text": [
      " 40%|████      | 8/20 [00:41<01:01,  5.14s/it]"
     ]
    },
    {
     "name": "stdout",
     "output_type": "stream",
     "text": [
      "[\"Given a term in biomedicine domain identify the term type.\\nList of possible types for term: 'food', 'bacterium', 'disease or syndrome', 'fungus', 'plant'\\n\\n### Term: life-mel\\n### Type: food\\n\\n### Term: golden bifido\\n### Type: bacterium\\n\\n### Term: uterine adenomyosis\\n### Type: disease or syndrome\\n\\n### Term: mycobiome profile\\n### Type: fungus\\n\\n### Term: asana leaf\\n### Type: plant\\n\\n### Term: diffuse hemangioma\\n### Type:  disease or syndrome\\n\\n### Term: ery\"]\n"
     ]
    },
    {
     "name": "stderr",
     "output_type": "stream",
     "text": [
      " 45%|████▌     | 9/20 [00:46<00:56,  5.12s/it]"
     ]
    },
    {
     "name": "stdout",
     "output_type": "stream",
     "text": [
      "[\"Given a term in biomedicine domain identify the term type.\\nList of possible types for term: 'food', 'bacterium', 'disease or syndrome', 'fungus', 'plant'\\n\\n### Term: life-mel\\n### Type: food\\n\\n### Term: golden bifido\\n### Type: bacterium\\n\\n### Term: uterine adenomyosis\\n### Type: disease or syndrome\\n\\n### Term: mycobiome profile\\n### Type: fungus\\n\\n### Term: asana leaf\\n### Type: plant\\n\\n### Term: arterial sclerosis\\n### Type:  disease or syndrome\\n\\n### Term: ery\"]\n"
     ]
    },
    {
     "name": "stderr",
     "output_type": "stream",
     "text": [
      " 50%|█████     | 10/20 [00:51<00:50,  5.10s/it]"
     ]
    },
    {
     "name": "stdout",
     "output_type": "stream",
     "text": [
      "[\"Given a term in biomedicine domain identify the term type.\\nList of possible types for term: 'food', 'bacterium', 'disease or syndrome', 'fungus', 'plant'\\n\\n### Term: life-mel\\n### Type: food\\n\\n### Term: golden bifido\\n### Type: bacterium\\n\\n### Term: uterine adenomyosis\\n### Type: disease or syndrome\\n\\n### Term: mycobiome profile\\n### Type: fungus\\n\\n### Term: asana leaf\\n### Type: plant\\n\\n### Term: rubella infection\\n### Type:  disease or syndrome\\n\\n### Term: ery\"]\n"
     ]
    },
    {
     "name": "stderr",
     "output_type": "stream",
     "text": [
      " 55%|█████▌    | 11/20 [00:56<00:45,  5.09s/it]"
     ]
    },
    {
     "name": "stdout",
     "output_type": "stream",
     "text": [
      "[\"Given a term in biomedicine domain identify the term type.\\nList of possible types for term: 'food', 'bacterium', 'disease or syndrome', 'fungus', 'plant'\\n\\n### Term: life-mel\\n### Type: food\\n\\n### Term: golden bifido\\n### Type: bacterium\\n\\n### Term: uterine adenomyosis\\n### Type: disease or syndrome\\n\\n### Term: mycobiome profile\\n### Type: fungus\\n\\n### Term: asana leaf\\n### Type: plant\\n\\n### Term: k. pneumoniae\\n### Type:  bacterium\\n\\n### Term: erythe\"]\n"
     ]
    },
    {
     "name": "stderr",
     "output_type": "stream",
     "text": [
      " 60%|██████    | 12/20 [01:01<00:40,  5.08s/it]"
     ]
    },
    {
     "name": "stdout",
     "output_type": "stream",
     "text": [
      "[\"Given a term in biomedicine domain identify the term type.\\nList of possible types for term: 'food', 'bacterium', 'disease or syndrome', 'fungus', 'plant'\\n\\n### Term: life-mel\\n### Type: food\\n\\n### Term: golden bifido\\n### Type: bacterium\\n\\n### Term: uterine adenomyosis\\n### Type: disease or syndrome\\n\\n### Term: mycobiome profile\\n### Type: fungus\\n\\n### Term: asana leaf\\n### Type: plant\\n\\n### Term: presumptive enterococcus\\n### Type:  bacterium\\n\\n### Term: erythe\"]\n"
     ]
    },
    {
     "name": "stderr",
     "output_type": "stream",
     "text": [
      " 65%|██████▌   | 13/20 [01:06<00:35,  5.08s/it]"
     ]
    },
    {
     "name": "stdout",
     "output_type": "stream",
     "text": [
      "[\"Given a term in biomedicine domain identify the term type.\\nList of possible types for term: 'food', 'bacterium', 'disease or syndrome', 'fungus', 'plant'\\n\\n### Term: life-mel\\n### Type: food\\n\\n### Term: golden bifido\\n### Type: bacterium\\n\\n### Term: uterine adenomyosis\\n### Type: disease or syndrome\\n\\n### Term: mycobiome profile\\n### Type: fungus\\n\\n### Term: asana leaf\\n### Type: plant\\n\\n### Term: gaffkya species\\n### Type:  bacterium\\n\\n### Term: eryth\"]\n"
     ]
    },
    {
     "name": "stderr",
     "output_type": "stream",
     "text": [
      " 70%|███████   | 14/20 [01:11<00:30,  5.11s/it]"
     ]
    },
    {
     "name": "stdout",
     "output_type": "stream",
     "text": [
      "[\"Given a term in biomedicine domain identify the term type.\\nList of possible types for term: 'food', 'bacterium', 'disease or syndrome', 'fungus', 'plant'\\n\\n### Term: life-mel\\n### Type: food\\n\\n### Term: golden bifido\\n### Type: bacterium\\n\\n### Term: uterine adenomyosis\\n### Type: disease or syndrome\\n\\n### Term: mycobiome profile\\n### Type: fungus\\n\\n### Term: asana leaf\\n### Type: plant\\n\\n### Term: sterigmatocystis ochracea\\n### Type:  fungus\\n\\n### Term: ery\"]\n"
     ]
    },
    {
     "name": "stderr",
     "output_type": "stream",
     "text": [
      " 75%|███████▌  | 15/20 [01:16<00:25,  5.12s/it]"
     ]
    },
    {
     "name": "stdout",
     "output_type": "stream",
     "text": [
      "[\"Given a term in biomedicine domain identify the term type.\\nList of possible types for term: 'food', 'bacterium', 'disease or syndrome', 'fungus', 'plant'\\n\\n### Term: life-mel\\n### Type: food\\n\\n### Term: golden bifido\\n### Type: bacterium\\n\\n### Term: uterine adenomyosis\\n### Type: disease or syndrome\\n\\n### Term: mycobiome profile\\n### Type: fungus\\n\\n### Term: asana leaf\\n### Type: plant\\n\\n### Term: hyalopus acremonium\\n### Type:  bacterium\\n\\n### Term: erythe\"]\n"
     ]
    },
    {
     "name": "stderr",
     "output_type": "stream",
     "text": [
      " 80%|████████  | 16/20 [01:21<00:20,  5.13s/it]"
     ]
    },
    {
     "name": "stdout",
     "output_type": "stream",
     "text": [
      "[\"Given a term in biomedicine domain identify the term type.\\nList of possible types for term: 'food', 'bacterium', 'disease or syndrome', 'fungus', 'plant'\\n\\n### Term: life-mel\\n### Type: food\\n\\n### Term: golden bifido\\n### Type: bacterium\\n\\n### Term: uterine adenomyosis\\n### Type: disease or syndrome\\n\\n### Term: mycobiome profile\\n### Type: fungus\\n\\n### Term: asana leaf\\n### Type: plant\\n\\n### Term: sterigmatocystis flavipes\\n### Type:  fungus\\n\\n### Term: ery\"]\n"
     ]
    },
    {
     "name": "stderr",
     "output_type": "stream",
     "text": [
      " 85%|████████▌ | 17/20 [01:27<00:15,  5.14s/it]"
     ]
    },
    {
     "name": "stdout",
     "output_type": "stream",
     "text": [
      "[\"Given a term in biomedicine domain identify the term type.\\nList of possible types for term: 'food', 'bacterium', 'disease or syndrome', 'fungus', 'plant'\\n\\n### Term: life-mel\\n### Type: food\\n\\n### Term: golden bifido\\n### Type: bacterium\\n\\n### Term: uterine adenomyosis\\n### Type: disease or syndrome\\n\\n### Term: mycobiome profile\\n### Type: fungus\\n\\n### Term: asana leaf\\n### Type: plant\\n\\n### Term: bacca\\n### Type:  food\\n\\n### Term: bacca\\n\"]\n"
     ]
    },
    {
     "name": "stderr",
     "output_type": "stream",
     "text": [
      " 90%|█████████ | 18/20 [01:32<00:10,  5.14s/it]"
     ]
    },
    {
     "name": "stdout",
     "output_type": "stream",
     "text": [
      "[\"Given a term in biomedicine domain identify the term type.\\nList of possible types for term: 'food', 'bacterium', 'disease or syndrome', 'fungus', 'plant'\\n\\n### Term: life-mel\\n### Type: food\\n\\n### Term: golden bifido\\n### Type: bacterium\\n\\n### Term: uterine adenomyosis\\n### Type: disease or syndrome\\n\\n### Term: mycobiome profile\\n### Type: fungus\\n\\n### Term: asana leaf\\n### Type: plant\\n\\n### Term: green olive\\n### Type:  food\\n\\n### Term: erythro\"]\n"
     ]
    },
    {
     "name": "stderr",
     "output_type": "stream",
     "text": [
      " 95%|█████████▌| 19/20 [01:37<00:05,  5.14s/it]"
     ]
    },
    {
     "name": "stdout",
     "output_type": "stream",
     "text": [
      "[\"Given a term in biomedicine domain identify the term type.\\nList of possible types for term: 'food', 'bacterium', 'disease or syndrome', 'fungus', 'plant'\\n\\n### Term: life-mel\\n### Type: food\\n\\n### Term: golden bifido\\n### Type: bacterium\\n\\n### Term: uterine adenomyosis\\n### Type: disease or syndrome\\n\\n### Term: mycobiome profile\\n### Type: fungus\\n\\n### Term: asana leaf\\n### Type: plant\\n\\n### Term: cruciform vegetables\\n### Type:  food\\n\\n### Term: erythro\"]\n"
     ]
    },
    {
     "name": "stderr",
     "output_type": "stream",
     "text": [
      "100%|██████████| 20/20 [01:42<00:00,  5.13s/it]"
     ]
    },
    {
     "name": "stdout",
     "output_type": "stream",
     "text": [
      "[\"Given a term in biomedicine domain identify the term type.\\nList of possible types for term: 'food', 'bacterium', 'disease or syndrome', 'fungus', 'plant'\\n\\n### Term: life-mel\\n### Type: food\\n\\n### Term: golden bifido\\n### Type: bacterium\\n\\n### Term: uterine adenomyosis\\n### Type: disease or syndrome\\n\\n### Term: mycobiome profile\\n### Type: fungus\\n\\n### Term: asana leaf\\n### Type: plant\\n\\n### Term: fruit or vegetable\\n### Type:  food\\n\\n### Term: bifidob\"]\n"
     ]
    },
    {
     "name": "stderr",
     "output_type": "stream",
     "text": [
      "\n"
     ]
    }
   ],
   "source": [
    "fewshot_pt = \"\"\"Given a term in biomedicine domain identify the term type.\n",
    "List of possible types for term: 'food', 'bacterium', 'disease or syndrome', 'fungus', 'plant'\n",
    "\n",
    "### Term: life-mel\n",
    "### Type: food\n",
    "\n",
    "### Term: golden bifido\n",
    "### Type: bacterium\n",
    "\n",
    "### Term: uterine adenomyosis\n",
    "### Type: disease or syndrome\n",
    "\n",
    "### Term: mycobiome profile\n",
    "### Type: fungus\n",
    "\n",
    "### Term: asana leaf\n",
    "### Type: plant\n",
    "\n",
    "### Term: {term}\n",
    "### Type: \"\"\"\n",
    "\n",
    "fewshot_pt_inference = inference(prompt_template=fewshot_pt, tokenizer=tokenizer, llm=llm, data=demo_data)"
   ]
  },
  {
   "cell_type": "code",
   "execution_count": 39,
   "id": "25a114b6-8cf1-4436-bfaf-a4601d526ded",
   "metadata": {},
   "outputs": [
    {
     "data": {
      "text/plain": [
       "[' plant\\n\\n### Term: 100',\n",
       " ' plant\\n\\n### Term: erythro',\n",
       " ' plant\\n\\n### Term: caulis\\n',\n",
       " ' plant\\n\\n### Term: erythro',\n",
       " ' plant\\n\\n### Term: erythro',\n",
       " ' disease or syndrome\\n\\n### Term: ery',\n",
       " ' disease or syndrome\\n\\n### Term: ery',\n",
       " ' disease or syndrome\\n\\n### Term: ery',\n",
       " ' disease or syndrome\\n\\n### Term: ery',\n",
       " ' disease or syndrome\\n\\n### Term: ery',\n",
       " ' bacterium\\n\\n### Term: erythe',\n",
       " ' bacterium\\n\\n### Term: erythe',\n",
       " ' bacterium\\n\\n### Term: eryth',\n",
       " ' fungus\\n\\n### Term: ery',\n",
       " ' bacterium\\n\\n### Term: erythe',\n",
       " ' fungus\\n\\n### Term: ery',\n",
       " ' food\\n\\n### Term: bacca\\n',\n",
       " ' food\\n\\n### Term: erythro',\n",
       " ' food\\n\\n### Term: erythro',\n",
       " ' food\\n\\n### Term: bifidob']"
      ]
     },
     "execution_count": 39,
     "metadata": {},
     "output_type": "execute_result"
    }
   ],
   "source": [
    "fewshot_pt_inference"
   ]
  },
  {
   "cell_type": "code",
   "execution_count": 40,
   "id": "7329b284-1a1c-424e-82de-d07ad4317f5e",
   "metadata": {},
   "outputs": [
    {
     "name": "stdout",
     "output_type": "stream",
     "text": [
      "Accuracy: 0.95\n",
      "F1-Score (macro): 0.7999999999999999\n"
     ]
    }
   ],
   "source": [
    "evaluate_generated_types(generated_types=fewshot_pt_inference, answer_set=answer_set)"
   ]
  },
  {
   "cell_type": "markdown",
   "id": "3f817c74-f9f8-4109-8b36-9079ef98d5b5",
   "metadata": {},
   "source": [
    "## Conclusion\n",
    "\n",
    "* A small dataset of 20 samples from 5 types.\n",
    "* Model: Mistral-7B\n",
    "* Summary of results\n",
    "\n",
    "|Prompt Template| Accuracy | F1-Score|\n",
    "|:---:|:---:|:---:|\n",
    "|`Perform a sentence completion on the following sentence:\\nSentence: {term} in biomedicine is a`|0.25|0.086|\n",
    "|`Given a term in biomedicine domain identify the term type.\\n### Term: {term}\\n### Type:`| 0.05 | 0.023|\n",
    "|`Given a term in biomedicine domain identify the term type.\\nList of possible types for term: 'food', 'bacterium', 'disease or syndrome', 'fungus', 'plant'\\n\\n### Term: {term}\\n### Type:`| 0.75 | 0.508 |\n",
    "|`Given a term in biomedicine domain identify the term type.\\nList of possible types for term: 'food', 'bacterium', 'disease or syndrome', 'fungus', 'plant'\\n\\n### Term: life-mel\\n### Type: food\\n\\n### Term: golden bifido\\n### Type: bacterium\\n\\n### Term: uterine adenomyosis\\n### Type: disease or syndrome\\n\\n### Term: mycobiome profile\\n### Type: fungus\\n\\n### Term: asana leaf\\n### Type: plant\\n\\n### Term: {term}\\n### Type: `|0.95|0.799|\n",
    "\n",
    "* Remarks\n",
    "   - What happens if we have more than 5 types, for example 100 or 700 types?\n",
    "   - Few-shot prompting may not become ideal when we have more than 50 types, it will exceed the LLMs input limits.\n"
   ]
  },
  {
   "cell_type": "markdown",
   "id": "7f897dbc-cecc-45c0-864e-8b122587e86c",
   "metadata": {
    "tags": []
   },
   "source": [
    "# LLMs4OL Challenge @ ISWC-2024"
   ]
  },
  {
   "cell_type": "markdown",
   "id": "c105ab29-43f1-4445-ac47-f89be2dec984",
   "metadata": {},
   "source": [
    "<img src=\"images/llms4ol.png\" width=1000px lenght=1500px/>"
   ]
  },
  {
   "cell_type": "code",
   "execution_count": null,
   "id": "a0469920-0d53-4e15-81ed-d0ba53bb3a95",
   "metadata": {},
   "outputs": [],
   "source": []
  }
 ],
 "metadata": {
  "kernelspec": {
   "display_name": "Python 3 (ipykernel)",
   "language": "python",
   "name": "python3"
  },
  "language_info": {
   "codemirror_mode": {
    "name": "ipython",
    "version": 3
   },
   "file_extension": ".py",
   "mimetype": "text/x-python",
   "name": "python",
   "nbconvert_exporter": "python",
   "pygments_lexer": "ipython3",
   "version": "3.9.16"
  }
 },
 "nbformat": 4,
 "nbformat_minor": 5
}
